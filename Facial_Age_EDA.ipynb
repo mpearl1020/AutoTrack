{
  "nbformat": 4,
  "nbformat_minor": 0,
  "metadata": {
    "colab": {
      "name": "Facial Age EDA.ipynb",
      "provenance": [],
      "toc_visible": true
    },
    "kernelspec": {
      "name": "python3",
      "display_name": "Python 3"
    },
    "language_info": {
      "name": "python"
    }
  },
  "cells": [
    {
      "cell_type": "markdown",
      "metadata": {
        "id": "qeTZuVuE0csH"
      },
      "source": [
        "# **Facial Age EDA**\n",
        "This colab notebook explores the [UTKFace Dataset](https://susanqq.github.io/UTKFace/)."
      ]
    },
    {
      "cell_type": "markdown",
      "metadata": {
        "id": "9YXKoR2G16IS"
      },
      "source": [
        "# Imports and Co-Lab Set Up"
      ]
    },
    {
      "cell_type": "code",
      "metadata": {
        "id": "db0JaR2g2MjV"
      },
      "source": [
        "from google.colab import drive\n",
        "import tarfile\n",
        "\n",
        "from IPython.display import display, Image\n",
        "\n",
        "import pandas as pd\n",
        "import matplotlib.pyplot as plt\n",
        "import seaborn as sns"
      ],
      "execution_count": null,
      "outputs": []
    },
    {
      "cell_type": "code",
      "metadata": {
        "colab": {
          "base_uri": "https://localhost:8080/"
        },
        "id": "lUw6DrRi1_JX",
        "outputId": "7280d163-9388-4a1f-b644-7fdd2adb0e68"
      },
      "source": [
        "# Mount Google Drive\n",
        "drive.mount('/content/drive')"
      ],
      "execution_count": null,
      "outputs": [
        {
          "output_type": "stream",
          "text": [
            "Mounted at /content/drive\n"
          ],
          "name": "stdout"
        }
      ]
    },
    {
      "cell_type": "markdown",
      "metadata": {
        "id": "iVZqMItBOm2H"
      },
      "source": [
        "# Part 1: Exploring Facial Age Dataset"
      ]
    },
    {
      "cell_type": "markdown",
      "metadata": {
        "id": "iysdsXIwTyNl"
      },
      "source": [
        "## Part 1.1: Create Age-Image Dataset\n",
        "In this section, we will unzip the folder of images from our drive and create a dataset that contains the age and image path. "
      ]
    },
    {
      "cell_type": "code",
      "metadata": {
        "id": "lICnwbiF0RKL"
      },
      "source": [
        "# Unzip the tar gz folder of images from the age dataset\n",
        "crop_part1 = tarfile.open('/content/drive/Shared drives/CIS545 Final Project/crop_part1.tar.gz')\n",
        "age_img_paths = crop_part1.getnames()\n",
        "for i in range(len(age_img_paths)):\n",
        "  rel_path = age_img_paths[i]\n",
        "  age_img_paths[i] = '/content/drive/Shared drives/CIS545 Final Project/' + rel_path\n",
        "crop_part1.close()"
      ],
      "execution_count": null,
      "outputs": []
    },
    {
      "cell_type": "code",
      "metadata": {
        "colab": {
          "base_uri": "https://localhost:8080/"
        },
        "id": "QkDndC9oUsC2",
        "outputId": "3fd4686b-e89a-4797-99ee-eb74c86ce40b"
      },
      "source": [
        "# Display first five paths to see format\n",
        "age_img_paths[:5]"
      ],
      "execution_count": null,
      "outputs": [
        {
          "output_type": "execute_result",
          "data": {
            "text/plain": [
              "['/content/drive/Shared drives/CIS545 Final Project/crop_part1/24_1_2_20170104020224692.jpg.chip.jpg',\n",
              " '/content/drive/Shared drives/CIS545 Final Project/crop_part1/3_1_3_20161219230106056.jpg.chip.jpg',\n",
              " '/content/drive/Shared drives/CIS545 Final Project/crop_part1/35_0_0_20170105162448427.jpg.chip.jpg',\n",
              " '/content/drive/Shared drives/CIS545 Final Project/crop_part1/5_0_0_20170110213554657.jpg.chip.jpg',\n",
              " '/content/drive/Shared drives/CIS545 Final Project/crop_part1/23_1_4_20170103223615095.jpg.chip.jpg']"
            ]
          },
          "metadata": {
            "tags": []
          },
          "execution_count": 96
        }
      ]
    },
    {
      "cell_type": "code",
      "metadata": {
        "id": "KiRdvGlk3Rg4"
      },
      "source": [
        "ages = []\n",
        "# Extracts age from the image path\n",
        "for name in age_img_paths:\n",
        "  name = name.split('/')[-1].split('_')[0]\n",
        "  ages.append(name)"
      ],
      "execution_count": null,
      "outputs": []
    },
    {
      "cell_type": "code",
      "metadata": {
        "colab": {
          "base_uri": "https://localhost:8080/",
          "height": 419
        },
        "id": "AnUBYTao12Zv",
        "outputId": "5dcbe2a4-fceb-48d4-9840-5ce6ae11a29e"
      },
      "source": [
        "age_face_df = pd.DataFrame(data = {'Ages' : ages, \"Image Path\": age_img_paths})\n",
        "age_face_df"
      ],
      "execution_count": null,
      "outputs": [
        {
          "output_type": "execute_result",
          "data": {
            "text/html": [
              "<div>\n",
              "<style scoped>\n",
              "    .dataframe tbody tr th:only-of-type {\n",
              "        vertical-align: middle;\n",
              "    }\n",
              "\n",
              "    .dataframe tbody tr th {\n",
              "        vertical-align: top;\n",
              "    }\n",
              "\n",
              "    .dataframe thead th {\n",
              "        text-align: right;\n",
              "    }\n",
              "</style>\n",
              "<table border=\"1\" class=\"dataframe\">\n",
              "  <thead>\n",
              "    <tr style=\"text-align: right;\">\n",
              "      <th></th>\n",
              "      <th>Ages</th>\n",
              "      <th>Image Path</th>\n",
              "    </tr>\n",
              "  </thead>\n",
              "  <tbody>\n",
              "    <tr>\n",
              "      <th>0</th>\n",
              "      <td>24</td>\n",
              "      <td>/content/drive/Shared drives/CIS545 Final Proj...</td>\n",
              "    </tr>\n",
              "    <tr>\n",
              "      <th>1</th>\n",
              "      <td>3</td>\n",
              "      <td>/content/drive/Shared drives/CIS545 Final Proj...</td>\n",
              "    </tr>\n",
              "    <tr>\n",
              "      <th>2</th>\n",
              "      <td>35</td>\n",
              "      <td>/content/drive/Shared drives/CIS545 Final Proj...</td>\n",
              "    </tr>\n",
              "    <tr>\n",
              "      <th>3</th>\n",
              "      <td>5</td>\n",
              "      <td>/content/drive/Shared drives/CIS545 Final Proj...</td>\n",
              "    </tr>\n",
              "    <tr>\n",
              "      <th>4</th>\n",
              "      <td>23</td>\n",
              "      <td>/content/drive/Shared drives/CIS545 Final Proj...</td>\n",
              "    </tr>\n",
              "    <tr>\n",
              "      <th>...</th>\n",
              "      <td>...</td>\n",
              "      <td>...</td>\n",
              "    </tr>\n",
              "    <tr>\n",
              "      <th>9776</th>\n",
              "      <td>49</td>\n",
              "      <td>/content/drive/Shared drives/CIS545 Final Proj...</td>\n",
              "    </tr>\n",
              "    <tr>\n",
              "      <th>9777</th>\n",
              "      <td>25</td>\n",
              "      <td>/content/drive/Shared drives/CIS545 Final Proj...</td>\n",
              "    </tr>\n",
              "    <tr>\n",
              "      <th>9778</th>\n",
              "      <td>1</td>\n",
              "      <td>/content/drive/Shared drives/CIS545 Final Proj...</td>\n",
              "    </tr>\n",
              "    <tr>\n",
              "      <th>9779</th>\n",
              "      <td>6</td>\n",
              "      <td>/content/drive/Shared drives/CIS545 Final Proj...</td>\n",
              "    </tr>\n",
              "    <tr>\n",
              "      <th>9780</th>\n",
              "      <td>78</td>\n",
              "      <td>/content/drive/Shared drives/CIS545 Final Proj...</td>\n",
              "    </tr>\n",
              "  </tbody>\n",
              "</table>\n",
              "<p>9781 rows × 2 columns</p>\n",
              "</div>"
            ],
            "text/plain": [
              "     Ages                                         Image Path\n",
              "0      24  /content/drive/Shared drives/CIS545 Final Proj...\n",
              "1       3  /content/drive/Shared drives/CIS545 Final Proj...\n",
              "2      35  /content/drive/Shared drives/CIS545 Final Proj...\n",
              "3       5  /content/drive/Shared drives/CIS545 Final Proj...\n",
              "4      23  /content/drive/Shared drives/CIS545 Final Proj...\n",
              "...   ...                                                ...\n",
              "9776   49  /content/drive/Shared drives/CIS545 Final Proj...\n",
              "9777   25  /content/drive/Shared drives/CIS545 Final Proj...\n",
              "9778    1  /content/drive/Shared drives/CIS545 Final Proj...\n",
              "9779    6  /content/drive/Shared drives/CIS545 Final Proj...\n",
              "9780   78  /content/drive/Shared drives/CIS545 Final Proj...\n",
              "\n",
              "[9781 rows x 2 columns]"
            ]
          },
          "metadata": {
            "tags": []
          },
          "execution_count": 89
        }
      ]
    },
    {
      "cell_type": "code",
      "metadata": {
        "colab": {
          "base_uri": "https://localhost:8080/"
        },
        "id": "qRpNXi_u7Ukq",
        "outputId": "e1cf3eae-869d-4e16-bd6e-1ab8090365c7"
      },
      "source": [
        "age_face_df.dtypesd"
      ],
      "execution_count": null,
      "outputs": [
        {
          "output_type": "execute_result",
          "data": {
            "text/plain": [
              "Ages          object\n",
              "Image Path    object\n",
              "dtype: object"
            ]
          },
          "metadata": {
            "tags": []
          },
          "execution_count": 68
        }
      ]
    },
    {
      "cell_type": "markdown",
      "metadata": {
        "id": "1V2iSiDlUddH"
      },
      "source": [
        "Now, we want to convert the datatype of the 'Ages' column to a numeric type and drop any non-numeric values. "
      ]
    },
    {
      "cell_type": "code",
      "metadata": {
        "colab": {
          "base_uri": "https://localhost:8080/"
        },
        "id": "rC-45Zcb7aqp",
        "outputId": "9e52a448-caca-4c04-d380-1882e0caefaf"
      },
      "source": [
        "def to_int(age):\n",
        "  try:\n",
        "    return int(age)\n",
        "  except:\n",
        "    return None\n",
        "\n",
        "age_face_df['Ages'] = age_face_df['Ages'].apply(lambda age: to_int(age)).dropna()\n",
        "age_face_df['Ages']"
      ],
      "execution_count": null,
      "outputs": [
        {
          "output_type": "execute_result",
          "data": {
            "text/plain": [
              "0       24.0\n",
              "1        3.0\n",
              "2       35.0\n",
              "3        5.0\n",
              "4       23.0\n",
              "        ... \n",
              "9776    49.0\n",
              "9777    25.0\n",
              "9778     1.0\n",
              "9779     6.0\n",
              "9780    78.0\n",
              "Name: Ages, Length: 9781, dtype: float64"
            ]
          },
          "metadata": {
            "tags": []
          },
          "execution_count": 90
        }
      ]
    },
    {
      "cell_type": "code",
      "metadata": {
        "colab": {
          "base_uri": "https://localhost:8080/"
        },
        "id": "tE_UcyEV9-Ky",
        "outputId": "588699d7-924e-4e92-ae3f-9efcf0513e85"
      },
      "source": [
        "age_face_df.dtypes"
      ],
      "execution_count": null,
      "outputs": [
        {
          "output_type": "execute_result",
          "data": {
            "text/plain": [
              "Ages          float64\n",
              "Image Path     object\n",
              "dtype: object"
            ]
          },
          "metadata": {
            "tags": []
          },
          "execution_count": 91
        }
      ]
    },
    {
      "cell_type": "markdown",
      "metadata": {
        "id": "IFolbWSxUNcS"
      },
      "source": [
        "## Part 1.2: Visualizing the Data"
      ]
    },
    {
      "cell_type": "markdown",
      "metadata": {
        "id": "d-hhQqTEUWsV"
      },
      "source": [
        "Outputting the first five images along with their ages. "
      ]
    },
    {
      "cell_type": "code",
      "metadata": {
        "colab": {
          "base_uri": "https://localhost:8080/",
          "height": 1000
        },
        "id": "bVxGv3VJ1WPa",
        "outputId": "e4399f10-7f51-4bfc-b2b2-2cd24d4b9472"
      },
      "source": [
        "for i in range(0,5):\n",
        "  print(ages[i])\n",
        "  img = Image(age_img_paths[i])\n",
        "  display(img)"
      ],
      "execution_count": null,
      "outputs": [
        {
          "output_type": "stream",
          "text": [
            "24\n"
          ],
          "name": "stdout"
        },
        {
          "output_type": "display_data",
          "data": {
            "image/jpeg": "[encoded data removed]",
            "text/plain": [
              "<IPython.core.display.Image object>"
            ]
          },
          "metadata": {
            "tags": []
          }
        },
        {
          "output_type": "stream",
          "text": [
            "3\n"
          ],
          "name": "stdout"
        },
        {
          "output_type": "display_data",
          "data": {
            "image/jpeg": "[encoded data removed]",
            "text/plain": [
              "<IPython.core.display.Image object>"
            ]
          },
          "metadata": {
            "tags": []
          }
        },
        {
          "output_type": "stream",
          "text": [
            "35\n"
          ],
          "name": "stdout"
        },
        {
          "output_type": "display_data",
          "data": {
            "image/jpeg": "[encoded data removed]",
            "text/plain": [
              "<IPython.core.display.Image object>"
            ]
          },
          "metadata": {
            "tags": []
          }
        },
        {
          "output_type": "stream",
          "text": [
            "5\n"
          ],
          "name": "stdout"
        },
        {
          "output_type": "display_data",
          "data": {
            "image/jpeg": "[encoded data removed]",
            "text/plain": [
              "<IPython.core.display.Image object>"
            ]
          },
          "metadata": {
            "tags": []
          }
        },
        {
          "output_type": "stream",
          "text": [
            "23\n"
          ],
          "name": "stdout"
        },
        {
          "output_type": "display_data",
          "data": {
            "image/jpeg": "[encoded data removed]",
            "text/plain": [
              "<IPython.core.display.Image object>"
            ]
          },
          "metadata": {
            "tags": []
          }
        }
      ]
    },
    {
      "cell_type": "markdown",
      "metadata": {
        "id": "wxUb6fJDU36k"
      },
      "source": [
        "Checking the distribution of ages by decade. "
      ]
    },
    {
      "cell_type": "code",
      "metadata": {
        "id": "3AU5o7aB5RAb"
      },
      "source": [
        "import numpy as np\n",
        "\n",
        "# Grouping the dataset by decade of age \n",
        "decade_df = age_face_df.sort_values('Ages')\n",
        "bins = np.arange(0, 100, 10)\n",
        "ind = np.digitize(decade_df['Ages'], bins)\n",
        "\n",
        "decade_df.groupby(ind)\n"
      ],
      "execution_count": null,
      "outputs": []
    },
    {
      "cell_type": "code",
      "metadata": {
        "colab": {
          "base_uri": "https://localhost:8080/",
          "height": 369
        },
        "id": "w_4h1cn2-E1O",
        "outputId": "74c83724-6b58-4283-c06f-9f7503085366"
      },
      "source": [
        "sns.displot(decade_df['Ages'])\n",
        "plt.show()"
      ],
      "execution_count": null,
      "outputs": [
        {
          "output_type": "display_data",
          "data": {
            "image/png": "[encoded data removed]",
            "text/plain": [
              "<Figure size 360x360 with 1 Axes>"
            ]
          },
          "metadata": {
            "tags": [],
            "needs_background": "light"
          }
        }
      ]
    }
  ]
}