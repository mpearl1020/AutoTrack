{
  "nbformat": 4,
  "nbformat_minor": 0,
  "metadata": {
    "colab": {
      "name": "Spotify EDA.ipynb",
      "provenance": [],
      "toc_visible": true
    },
    "kernelspec": {
      "name": "python3",
      "display_name": "Python 3"
    },
    "language_info": {
      "name": "python"
    }
  },
  "cells": [
    {
      "cell_type": "markdown",
      "metadata": {
        "id": "l9OVBDbDjgnW"
      },
      "source": [
        "# **Spotify EDA**\n",
        "This colab notebook explores the [Kaggle Spotify Dataset](https://www.kaggle.com/andiqayyum/spotify-songs-analysis-from-1920-to-2020/data?select=data.csv) with songs from 1922 to 2020. "
      ]
    },
    {
      "cell_type": "markdown",
      "metadata": {
        "id": "WpExWxW3kY-d"
      },
      "source": [
        "# Imports and Co-Lab Set Up"
      ]
    },
    {
      "cell_type": "code",
      "metadata": {
        "id": "GTQiZLcD3VWy"
      },
      "source": [
        "import pandas as pd\n",
        "from google.colab import drive\n",
        "\n",
        "import seaborn as sns\n",
        "import matplotlib.pyplot as plt\n",
        "\n",
        "from collections import defaultdict"
      ],
      "execution_count": 1,
      "outputs": []
    },
    {
      "cell_type": "code",
      "metadata": {
        "colab": {
          "base_uri": "https://localhost:8080/"
        },
        "id": "epG0MmqQ3jDq",
        "outputId": "695c7cd7-cca0-4fa7-fbf2-cb5ba9440b06"
      },
      "source": [
        "drive.mount('/content/drive')"
      ],
      "execution_count": 2,
      "outputs": [
        {
          "output_type": "stream",
          "text": [
            "Mounted at /content/drive\n"
          ],
          "name": "stdout"
        }
      ]
    },
    {
      "cell_type": "markdown",
      "metadata": {
        "id": "DvKojOHgk9Nu"
      },
      "source": [
        "# Part 1: Exploring the Original Spotify Data"
      ]
    },
    {
      "cell_type": "markdown",
      "metadata": {
        "id": "KWlLvfwJlGWx"
      },
      "source": [
        "## 1.1: Features"
      ]
    },
    {
      "cell_type": "code",
      "metadata": {
        "id": "LM1YoIxqmWTq"
      },
      "source": [
        "# Get spotify data\n",
        "path_to_spotify_data = '/content/drive/Shared drives/CIS545 Final Project/spotify_data.csv'\n",
        "\n",
        "# Create dataframe -- drop duplicates and nulls\n",
        "spotify_df = pd.read_csv(path_to_spotify_data, error_bad_lines=False).dropna().drop_duplicates()"
      ],
      "execution_count": 3,
      "outputs": []
    },
    {
      "cell_type": "code",
      "metadata": {
        "id": "KBPgHtPg3te2"
      },
      "source": [
        "# Convert column values from Strings to nums \n",
        "cols_to_numeric = ['acousticness', 'danceability', 'duration_ms', 'energy', 'explicit', 'instrumentalness', 'key', 'liveness', 'loudness', 'mode', 'popularity', 'valence']\n",
        "spotify_df[cols_to_numeric] = spotify_df[cols_to_numeric].apply(pd.to_numeric)"
      ],
      "execution_count": 4,
      "outputs": []
    },
    {
      "cell_type": "code",
      "metadata": {
        "colab": {
          "base_uri": "https://localhost:8080/",
          "height": 616
        },
        "id": "94oXxJIB6XTe",
        "outputId": "d5797df4-93c1-4d62-eb83-065af566c1df"
      },
      "source": [
        "# Display dataframe \n",
        "spotify_df"
      ],
      "execution_count": 5,
      "outputs": [
        {
          "output_type": "execute_result",
          "data": {
            "text/html": [
              "<div>\n",
              "<style scoped>\n",
              "    .dataframe tbody tr th:only-of-type {\n",
              "        vertical-align: middle;\n",
              "    }\n",
              "\n",
              "    .dataframe tbody tr th {\n",
              "        vertical-align: top;\n",
              "    }\n",
              "\n",
              "    .dataframe thead th {\n",
              "        text-align: right;\n",
              "    }\n",
              "</style>\n",
              "<table border=\"1\" class=\"dataframe\">\n",
              "  <thead>\n",
              "    <tr style=\"text-align: right;\">\n",
              "      <th></th>\n",
              "      <th>acousticness</th>\n",
              "      <th>artists</th>\n",
              "      <th>danceability</th>\n",
              "      <th>duration_ms</th>\n",
              "      <th>energy</th>\n",
              "      <th>explicit</th>\n",
              "      <th>id</th>\n",
              "      <th>instrumentalness</th>\n",
              "      <th>key</th>\n",
              "      <th>liveness</th>\n",
              "      <th>loudness</th>\n",
              "      <th>mode</th>\n",
              "      <th>name</th>\n",
              "      <th>popularity</th>\n",
              "      <th>release_date</th>\n",
              "      <th>speechiness</th>\n",
              "      <th>tempo</th>\n",
              "      <th>valence</th>\n",
              "      <th>year</th>\n",
              "    </tr>\n",
              "  </thead>\n",
              "  <tbody>\n",
              "    <tr>\n",
              "      <th>0</th>\n",
              "      <td>0.991000</td>\n",
              "      <td>['Mamie Smith']</td>\n",
              "      <td>0.598</td>\n",
              "      <td>168333</td>\n",
              "      <td>0.224</td>\n",
              "      <td>0</td>\n",
              "      <td>0cS0A1fUEUd1EW3FcF8AEI</td>\n",
              "      <td>0.000522</td>\n",
              "      <td>5</td>\n",
              "      <td>0.3790</td>\n",
              "      <td>-12.628</td>\n",
              "      <td>0</td>\n",
              "      <td>Keep A Song In Your Soul</td>\n",
              "      <td>12</td>\n",
              "      <td>1920</td>\n",
              "      <td>0.0936</td>\n",
              "      <td>149.976</td>\n",
              "      <td>0.6340</td>\n",
              "      <td>1920</td>\n",
              "    </tr>\n",
              "    <tr>\n",
              "      <th>1</th>\n",
              "      <td>0.643000</td>\n",
              "      <td>[\"Screamin' Jay Hawkins\"]</td>\n",
              "      <td>0.852</td>\n",
              "      <td>150200</td>\n",
              "      <td>0.517</td>\n",
              "      <td>0</td>\n",
              "      <td>0hbkKFIJm7Z05H8Zl9w30f</td>\n",
              "      <td>0.026400</td>\n",
              "      <td>5</td>\n",
              "      <td>0.0809</td>\n",
              "      <td>-7.261</td>\n",
              "      <td>0</td>\n",
              "      <td>I Put A Spell On You</td>\n",
              "      <td>7</td>\n",
              "      <td>1920-01-05</td>\n",
              "      <td>0.0534</td>\n",
              "      <td>86.889</td>\n",
              "      <td>0.9500</td>\n",
              "      <td>1920</td>\n",
              "    </tr>\n",
              "    <tr>\n",
              "      <th>2</th>\n",
              "      <td>0.993000</td>\n",
              "      <td>['Mamie Smith']</td>\n",
              "      <td>0.647</td>\n",
              "      <td>163827</td>\n",
              "      <td>0.186</td>\n",
              "      <td>0</td>\n",
              "      <td>11m7laMUgmOKqI3oYzuhne</td>\n",
              "      <td>0.000018</td>\n",
              "      <td>0</td>\n",
              "      <td>0.5190</td>\n",
              "      <td>-12.098</td>\n",
              "      <td>1</td>\n",
              "      <td>Golfing Papa</td>\n",
              "      <td>4</td>\n",
              "      <td>1920</td>\n",
              "      <td>0.1740</td>\n",
              "      <td>97.600</td>\n",
              "      <td>0.6890</td>\n",
              "      <td>1920</td>\n",
              "    </tr>\n",
              "    <tr>\n",
              "      <th>3</th>\n",
              "      <td>0.000173</td>\n",
              "      <td>['Oscar Velazquez']</td>\n",
              "      <td>0.730</td>\n",
              "      <td>422087</td>\n",
              "      <td>0.798</td>\n",
              "      <td>0</td>\n",
              "      <td>19Lc5SfJJ5O1oaxY0fpwfh</td>\n",
              "      <td>0.801000</td>\n",
              "      <td>2</td>\n",
              "      <td>0.1280</td>\n",
              "      <td>-7.311</td>\n",
              "      <td>1</td>\n",
              "      <td>True House Music - Xavier Santos &amp; Carlos Gomi...</td>\n",
              "      <td>17</td>\n",
              "      <td>1920-01-01</td>\n",
              "      <td>0.0425</td>\n",
              "      <td>127.997</td>\n",
              "      <td>0.0422</td>\n",
              "      <td>1920</td>\n",
              "    </tr>\n",
              "    <tr>\n",
              "      <th>4</th>\n",
              "      <td>0.295000</td>\n",
              "      <td>['Mixe']</td>\n",
              "      <td>0.704</td>\n",
              "      <td>165224</td>\n",
              "      <td>0.707</td>\n",
              "      <td>1</td>\n",
              "      <td>2hJjbsLCytGsnAHfdsLejp</td>\n",
              "      <td>0.000246</td>\n",
              "      <td>10</td>\n",
              "      <td>0.4020</td>\n",
              "      <td>-6.036</td>\n",
              "      <td>0</td>\n",
              "      <td>Xuniverxe</td>\n",
              "      <td>2</td>\n",
              "      <td>1920-10-01</td>\n",
              "      <td>0.0768</td>\n",
              "      <td>122.076</td>\n",
              "      <td>0.2990</td>\n",
              "      <td>1920</td>\n",
              "    </tr>\n",
              "    <tr>\n",
              "      <th>...</th>\n",
              "      <td>...</td>\n",
              "      <td>...</td>\n",
              "      <td>...</td>\n",
              "      <td>...</td>\n",
              "      <td>...</td>\n",
              "      <td>...</td>\n",
              "      <td>...</td>\n",
              "      <td>...</td>\n",
              "      <td>...</td>\n",
              "      <td>...</td>\n",
              "      <td>...</td>\n",
              "      <td>...</td>\n",
              "      <td>...</td>\n",
              "      <td>...</td>\n",
              "      <td>...</td>\n",
              "      <td>...</td>\n",
              "      <td>...</td>\n",
              "      <td>...</td>\n",
              "      <td>...</td>\n",
              "    </tr>\n",
              "    <tr>\n",
              "      <th>174379</th>\n",
              "      <td>0.795000</td>\n",
              "      <td>['Alessia Cara']</td>\n",
              "      <td>0.429</td>\n",
              "      <td>144720</td>\n",
              "      <td>0.211</td>\n",
              "      <td>0</td>\n",
              "      <td>45XnLMuqf3vRfskEAMUeCH</td>\n",
              "      <td>0.000000</td>\n",
              "      <td>4</td>\n",
              "      <td>0.1960</td>\n",
              "      <td>-11.665</td>\n",
              "      <td>1</td>\n",
              "      <td>A Little More</td>\n",
              "      <td>0</td>\n",
              "      <td>2021-01-22</td>\n",
              "      <td>0.0360</td>\n",
              "      <td>94.710</td>\n",
              "      <td>0.2280</td>\n",
              "      <td>2021</td>\n",
              "    </tr>\n",
              "    <tr>\n",
              "      <th>174381</th>\n",
              "      <td>0.795000</td>\n",
              "      <td>['Alessia Cara']</td>\n",
              "      <td>0.429</td>\n",
              "      <td>144720</td>\n",
              "      <td>0.211</td>\n",
              "      <td>0</td>\n",
              "      <td>4pPFI9jsguIh3wC7Otoyy8</td>\n",
              "      <td>0.000000</td>\n",
              "      <td>4</td>\n",
              "      <td>0.1960</td>\n",
              "      <td>-11.665</td>\n",
              "      <td>1</td>\n",
              "      <td>A Little More</td>\n",
              "      <td>0</td>\n",
              "      <td>2021-01-22</td>\n",
              "      <td>0.0360</td>\n",
              "      <td>94.710</td>\n",
              "      <td>0.2280</td>\n",
              "      <td>2021</td>\n",
              "    </tr>\n",
              "    <tr>\n",
              "      <th>174383</th>\n",
              "      <td>0.795000</td>\n",
              "      <td>['Alessia Cara']</td>\n",
              "      <td>0.429</td>\n",
              "      <td>144720</td>\n",
              "      <td>0.211</td>\n",
              "      <td>0</td>\n",
              "      <td>52YtxLVUyvtiGPxwwxayHZ</td>\n",
              "      <td>0.000000</td>\n",
              "      <td>4</td>\n",
              "      <td>0.1960</td>\n",
              "      <td>-11.665</td>\n",
              "      <td>1</td>\n",
              "      <td>A Little More</td>\n",
              "      <td>0</td>\n",
              "      <td>2021-01-22</td>\n",
              "      <td>0.0360</td>\n",
              "      <td>94.710</td>\n",
              "      <td>0.2280</td>\n",
              "      <td>2021</td>\n",
              "    </tr>\n",
              "    <tr>\n",
              "      <th>174385</th>\n",
              "      <td>0.795000</td>\n",
              "      <td>['Alessia Cara']</td>\n",
              "      <td>0.429</td>\n",
              "      <td>144720</td>\n",
              "      <td>0.211</td>\n",
              "      <td>0</td>\n",
              "      <td>7tue2Wemjd0FZzRtDrQFZd</td>\n",
              "      <td>0.000000</td>\n",
              "      <td>4</td>\n",
              "      <td>0.1960</td>\n",
              "      <td>-11.665</td>\n",
              "      <td>1</td>\n",
              "      <td>A Little More</td>\n",
              "      <td>0</td>\n",
              "      <td>2021-01-22</td>\n",
              "      <td>0.0360</td>\n",
              "      <td>94.710</td>\n",
              "      <td>0.2280</td>\n",
              "      <td>2021</td>\n",
              "    </tr>\n",
              "    <tr>\n",
              "      <th>174387</th>\n",
              "      <td>0.920000</td>\n",
              "      <td>['Taylor Swift']</td>\n",
              "      <td>0.462</td>\n",
              "      <td>244000</td>\n",
              "      <td>0.240</td>\n",
              "      <td>1</td>\n",
              "      <td>1gcyHQpBQ1lfXGdhZmWrHP</td>\n",
              "      <td>0.000000</td>\n",
              "      <td>0</td>\n",
              "      <td>0.1130</td>\n",
              "      <td>-12.077</td>\n",
              "      <td>1</td>\n",
              "      <td>champagne problems</td>\n",
              "      <td>69</td>\n",
              "      <td>2021-01-07</td>\n",
              "      <td>0.0377</td>\n",
              "      <td>171.319</td>\n",
              "      <td>0.3200</td>\n",
              "      <td>2021</td>\n",
              "    </tr>\n",
              "  </tbody>\n",
              "</table>\n",
              "<p>172230 rows × 19 columns</p>\n",
              "</div>"
            ],
            "text/plain": [
              "        acousticness                    artists  ...  valence  year\n",
              "0           0.991000            ['Mamie Smith']  ...   0.6340  1920\n",
              "1           0.643000  [\"Screamin' Jay Hawkins\"]  ...   0.9500  1920\n",
              "2           0.993000            ['Mamie Smith']  ...   0.6890  1920\n",
              "3           0.000173        ['Oscar Velazquez']  ...   0.0422  1920\n",
              "4           0.295000                   ['Mixe']  ...   0.2990  1920\n",
              "...              ...                        ...  ...      ...   ...\n",
              "174379      0.795000           ['Alessia Cara']  ...   0.2280  2021\n",
              "174381      0.795000           ['Alessia Cara']  ...   0.2280  2021\n",
              "174383      0.795000           ['Alessia Cara']  ...   0.2280  2021\n",
              "174385      0.795000           ['Alessia Cara']  ...   0.2280  2021\n",
              "174387      0.920000           ['Taylor Swift']  ...   0.3200  2021\n",
              "\n",
              "[172230 rows x 19 columns]"
            ]
          },
          "metadata": {
            "tags": []
          },
          "execution_count": 5
        }
      ]
    },
    {
      "cell_type": "code",
      "metadata": {
        "colab": {
          "base_uri": "https://localhost:8080/"
        },
        "id": "sQMELvZalpBa",
        "outputId": "9420ee1d-15aa-42c1-97df-33f3d5bb5fa5"
      },
      "source": [
        "# Columns in the dataframe\n",
        "spotify_df.columns.values"
      ],
      "execution_count": 6,
      "outputs": [
        {
          "output_type": "execute_result",
          "data": {
            "text/plain": [
              "array(['acousticness', 'artists', 'danceability', 'duration_ms', 'energy',\n",
              "       'explicit', 'id', 'instrumentalness', 'key', 'liveness',\n",
              "       'loudness', 'mode', 'name', 'popularity', 'release_date',\n",
              "       'speechiness', 'tempo', 'valence', 'year'], dtype=object)"
            ]
          },
          "metadata": {
            "tags": []
          },
          "execution_count": 6
        }
      ]
    },
    {
      "cell_type": "markdown",
      "metadata": {
        "id": "u0tRrvW0m5oz"
      },
      "source": [
        "## 1.2: Visualizations"
      ]
    },
    {
      "cell_type": "markdown",
      "metadata": {
        "id": "TigAorrinD2G"
      },
      "source": [
        "Here, we created a heatmap to visualize the correlation of different columns with each other. "
      ]
    },
    {
      "cell_type": "code",
      "metadata": {
        "colab": {
          "base_uri": "https://localhost:8080/",
          "height": 960
        },
        "id": "Rcbv294R7KTO",
        "outputId": "20383690-26e1-4a32-f2aa-8c8c94f12035"
      },
      "source": [
        "plt.subplots(figsize=(20,15))\n",
        "sns.heatmap(spotify_df.corr(), annot=True)"
      ],
      "execution_count": 7,
      "outputs": [
        {
          "output_type": "execute_result",
          "data": {
            "text/plain": [
              "<matplotlib.axes._subplots.AxesSubplot at 0x7fde265e44d0>"
            ]
          },
          "metadata": {
            "tags": []
          },
          "execution_count": 7
        },
        {
          "output_type": "display_data",
          "data": {
            "image/png": "[encoded data removed]",
            "text/plain": [
              "<Figure size 1440x1080 with 2 Axes>"
            ]
          },
          "metadata": {
            "tags": [],
            "needs_background": "light"
          }
        }
      ]
    },
    {
      "cell_type": "markdown",
      "metadata": {
        "id": "LOrWT-0dqG_v"
      },
      "source": [
        "We also wanted to see the distribution of songs over the years in the dataset to make sure it wasn't overly uneven. "
      ]
    },
    {
      "cell_type": "code",
      "metadata": {
        "colab": {
          "base_uri": "https://localhost:8080/",
          "height": 385
        },
        "id": "ZWwSRiR4osb0",
        "outputId": "86f51320-e17e-48bc-c9cb-c866d8bd7f32"
      },
      "source": [
        "sns.displot(spotify_df['year'], bins =20)"
      ],
      "execution_count": 8,
      "outputs": [
        {
          "output_type": "execute_result",
          "data": {
            "text/plain": [
              "<seaborn.axisgrid.FacetGrid at 0x7fde1dc3e650>"
            ]
          },
          "metadata": {
            "tags": []
          },
          "execution_count": 8
        },
        {
          "output_type": "display_data",
          "data": {
            "image/png": "[encoded data removed]",
            "text/plain": [
              "<Figure size 360x360 with 1 Axes>"
            ]
          },
          "metadata": {
            "tags": [],
            "needs_background": "light"
          }
        }
      ]
    },
    {
      "cell_type": "markdown",
      "metadata": {
        "id": "fNj3Y1Sdn9Kw"
      },
      "source": [
        "# Part 2: Merging and Exploring Genre \n",
        "\n",
        "We also wanted to figure out the genre of each song. We did this by merging our Spotify dataset with a [Kaggle Spotify genre classification](https://www.kaggle.com/danielsheen/spotify-song-genre-classification\n",
        ") dataset. "
      ]
    },
    {
      "cell_type": "markdown",
      "metadata": {
        "id": "1RTf-FOIvTBN"
      },
      "source": [
        "## Part 2.1: Original Spotify Kaggle Dataset"
      ]
    },
    {
      "cell_type": "code",
      "metadata": {
        "id": "XMHNEKci8G6w"
      },
      "source": [
        "# Load in genre classification dataset\n",
        "path_to_top_two_thousand = '/content/drive/Shared drives/CIS545 Final Project/Spotify-2000.csv'\n",
        "\n",
        "# Create dataframe -- Drop nulls and duplicates, only get Song Title, Genre, and Artist columns\n",
        "df_top_two_thousand = pd.read_csv(path_to_top_two_thousand).dropna().drop_duplicates()[['Title', 'Artist', 'Top Genre']]"
      ],
      "execution_count": 9,
      "outputs": []
    },
    {
      "cell_type": "code",
      "metadata": {
        "colab": {
          "base_uri": "https://localhost:8080/",
          "height": 414
        },
        "id": "1OYaCixgrAlF",
        "outputId": "cf5852ae-e0c8-4ab9-a9ee-2c4f452b855a"
      },
      "source": [
        "# Display dataframe\n",
        "df_top_two_thousand"
      ],
      "execution_count": 10,
      "outputs": [
        {
          "output_type": "execute_result",
          "data": {
            "text/html": [
              "<div>\n",
              "<style scoped>\n",
              "    .dataframe tbody tr th:only-of-type {\n",
              "        vertical-align: middle;\n",
              "    }\n",
              "\n",
              "    .dataframe tbody tr th {\n",
              "        vertical-align: top;\n",
              "    }\n",
              "\n",
              "    .dataframe thead th {\n",
              "        text-align: right;\n",
              "    }\n",
              "</style>\n",
              "<table border=\"1\" class=\"dataframe\">\n",
              "  <thead>\n",
              "    <tr style=\"text-align: right;\">\n",
              "      <th></th>\n",
              "      <th>Title</th>\n",
              "      <th>Artist</th>\n",
              "      <th>Top Genre</th>\n",
              "    </tr>\n",
              "  </thead>\n",
              "  <tbody>\n",
              "    <tr>\n",
              "      <th>0</th>\n",
              "      <td>Sunrise</td>\n",
              "      <td>Norah Jones</td>\n",
              "      <td>adult standards</td>\n",
              "    </tr>\n",
              "    <tr>\n",
              "      <th>1</th>\n",
              "      <td>Black Night</td>\n",
              "      <td>Deep Purple</td>\n",
              "      <td>album rock</td>\n",
              "    </tr>\n",
              "    <tr>\n",
              "      <th>2</th>\n",
              "      <td>Clint Eastwood</td>\n",
              "      <td>Gorillaz</td>\n",
              "      <td>alternative hip hop</td>\n",
              "    </tr>\n",
              "    <tr>\n",
              "      <th>3</th>\n",
              "      <td>The Pretender</td>\n",
              "      <td>Foo Fighters</td>\n",
              "      <td>alternative metal</td>\n",
              "    </tr>\n",
              "    <tr>\n",
              "      <th>4</th>\n",
              "      <td>Waitin' On A Sunny Day</td>\n",
              "      <td>Bruce Springsteen</td>\n",
              "      <td>classic rock</td>\n",
              "    </tr>\n",
              "    <tr>\n",
              "      <th>...</th>\n",
              "      <td>...</td>\n",
              "      <td>...</td>\n",
              "      <td>...</td>\n",
              "    </tr>\n",
              "    <tr>\n",
              "      <th>1989</th>\n",
              "      <td>Heartbreak Hotel</td>\n",
              "      <td>Elvis Presley</td>\n",
              "      <td>adult standards</td>\n",
              "    </tr>\n",
              "    <tr>\n",
              "      <th>1990</th>\n",
              "      <td>Hound Dog</td>\n",
              "      <td>Elvis Presley</td>\n",
              "      <td>adult standards</td>\n",
              "    </tr>\n",
              "    <tr>\n",
              "      <th>1991</th>\n",
              "      <td>Johnny B. Goode</td>\n",
              "      <td>Chuck Berry</td>\n",
              "      <td>blues rock</td>\n",
              "    </tr>\n",
              "    <tr>\n",
              "      <th>1992</th>\n",
              "      <td>Take Five</td>\n",
              "      <td>The Dave Brubeck Quartet</td>\n",
              "      <td>bebop</td>\n",
              "    </tr>\n",
              "    <tr>\n",
              "      <th>1993</th>\n",
              "      <td>Blueberry Hill</td>\n",
              "      <td>Fats Domino</td>\n",
              "      <td>adult standards</td>\n",
              "    </tr>\n",
              "  </tbody>\n",
              "</table>\n",
              "<p>1994 rows × 3 columns</p>\n",
              "</div>"
            ],
            "text/plain": [
              "                       Title                    Artist            Top Genre\n",
              "0                    Sunrise               Norah Jones      adult standards\n",
              "1                Black Night               Deep Purple           album rock\n",
              "2             Clint Eastwood                  Gorillaz  alternative hip hop\n",
              "3              The Pretender              Foo Fighters    alternative metal\n",
              "4     Waitin' On A Sunny Day         Bruce Springsteen         classic rock\n",
              "...                      ...                       ...                  ...\n",
              "1989        Heartbreak Hotel             Elvis Presley      adult standards\n",
              "1990               Hound Dog             Elvis Presley      adult standards\n",
              "1991         Johnny B. Goode               Chuck Berry           blues rock\n",
              "1992               Take Five  The Dave Brubeck Quartet                bebop\n",
              "1993          Blueberry Hill               Fats Domino      adult standards\n",
              "\n",
              "[1994 rows x 3 columns]"
            ]
          },
          "metadata": {
            "tags": []
          },
          "execution_count": 10
        }
      ]
    },
    {
      "cell_type": "code",
      "metadata": {
        "colab": {
          "base_uri": "https://localhost:8080/"
        },
        "id": "MmAhbSxDrEpG",
        "outputId": "12d8e7ad-cf1f-4f08-e39a-8d58db5e7392"
      },
      "source": [
        "# List of genres included \n",
        "df_top_two_thousand[\"Top Genre\"].unique()"
      ],
      "execution_count": 11,
      "outputs": [
        {
          "output_type": "execute_result",
          "data": {
            "text/plain": [
              "array(['adult standards', 'album rock', 'alternative hip hop',\n",
              "       'alternative metal', 'classic rock', 'alternative pop rock', 'pop',\n",
              "       'modern rock', 'detroit hip hop', 'alternative rock',\n",
              "       'dutch indie', 'garage rock', 'dutch cabaret', 'permanent wave',\n",
              "       'classic uk pop', 'dance pop', 'modern folk rock', 'dutch pop',\n",
              "       'dutch americana', 'alternative dance', 'german pop', 'afropop',\n",
              "       'british soul', 'irish rock', 'disco', 'big room', 'art rock',\n",
              "       'danish pop rock', 'neo mellow', 'britpop', 'boy band',\n",
              "       'carnaval limburg', 'arkansas country', 'latin alternative',\n",
              "       'british folk', 'celtic', 'chanson', 'celtic rock', 'hip pop',\n",
              "       'east coast hip hop', 'dutch rock', 'blues rock', 'electro',\n",
              "       'australian pop', 'belgian rock', 'downtempo', 'reggae fusion',\n",
              "       'british invasion', 'finnish metal', 'canadian pop', 'bow pop',\n",
              "       'dutch hip hop', 'dutch metal', 'soft rock', 'acoustic pop',\n",
              "       'acid jazz', 'dutch prog', 'candy pop', 'operatic pop', 'trance',\n",
              "       'scottish singer-songwriter', 'mellow gold', 'alternative pop',\n",
              "       'dance rock', 'atl hip hop', 'eurodance', 'blues', 'canadian folk',\n",
              "       'big beat', 'art pop', 'uk pop', 'glam metal',\n",
              "       'brill building pop', 'g funk', 'happy hardcore', 'belgian pop',\n",
              "       'classic schlager', 'contemporary country', 'barbadian pop',\n",
              "       'gabba', 'chamber pop', 'british singer-songwriter', 'indie pop',\n",
              "       'australian rock', 'nederpop', 'australian indie folk', 'folk-pop',\n",
              "       'electropop', 'edm', 'metropopolis', 'irish pop', 'electronica',\n",
              "       'alaska indie', 'irish singer-songwriter', 'stomp and holler',\n",
              "       'australian dance', 'australian psych', 'laboratorio',\n",
              "       'contemporary vocal jazz', 'rock-and-roll', 'glam rock',\n",
              "       'classic soundtrack', 'icelandic indie', 'danish pop',\n",
              "       'compositional ambient', 'neo soul', 'streektaal', 'italian pop',\n",
              "       'indie anthem-folk', 'la pop', 'baroque pop', 'ccm',\n",
              "       'electro house', 'austropop', 'australian americana', 'latin',\n",
              "       'chicago soul', 'classic soul', 'bubblegum pop',\n",
              "       'classic country pop', 'europop', 'hard rock', 'reggae', 'j-core',\n",
              "       'funk', 'folk', 'punk', 'basshall', 'australian alternative rock',\n",
              "       'yacht rock', 'alternative country', 'celtic punk', 'new wave pop',\n",
              "       'classic canadian rock', 'christelijk', 'levenslied', 'cyberpunk',\n",
              "       'gangster rap', 'diva house', 'classical rock', 'canadian rock',\n",
              "       'german pop rock', 'british alternative rock', 'latin jazz',\n",
              "       'german alternative rock', 'classic italian pop', 'pop punk',\n",
              "       'motown', 'bebop'], dtype=object)"
            ]
          },
          "metadata": {
            "tags": []
          },
          "execution_count": 11
        }
      ]
    },
    {
      "cell_type": "markdown",
      "metadata": {
        "id": "IXtfitx5vZB9"
      },
      "source": [
        "## Part 2.2: Simplifying Genres\n",
        "Given the large number of genres present, we decided to simplify classifications by choosing a few representative genres:\n",
        "\n",
        "*   Rock\n",
        "*   Jazz\n",
        "* Hip Hop\n",
        "* Pop\n",
        "* Alternative \n",
        "* Adult Standards\n",
        "* Folk\n",
        "* Indie\n",
        "* Metal\n",
        "\n"
      ]
    },
    {
      "cell_type": "code",
      "metadata": {
        "colab": {
          "base_uri": "https://localhost:8080/"
        },
        "id": "xp1Vc41DCcY6",
        "outputId": "649dcce6-c06f-429f-9d4f-738ab822f3f6"
      },
      "source": [
        "general_genres = ['rock', 'jazz', 'hip hop', 'pop', 'alternative', 'adult standards', 'folk', 'indie', 'metal']\n",
        "\n",
        "# Encodes each genre as an integer\n",
        "encoding = {}\n",
        "\n",
        "for i in range(len(general_genres)):\n",
        "  encoding.update({general_genres[i]: i})\n",
        "encoding.update({'other': 9})\n",
        "\n",
        "print(encoding)"
      ],
      "execution_count": 12,
      "outputs": [
        {
          "output_type": "stream",
          "text": [
            "{'rock': 0, 'jazz': 1, 'hip hop': 2, 'pop': 3, 'alternative': 4, 'adult standards': 5, 'folk': 6, 'indie': 7, 'metal': 8, 'other': 9}\n"
          ],
          "name": "stdout"
        }
      ]
    },
    {
      "cell_type": "markdown",
      "metadata": {
        "id": "FmkI_x9Jse1f"
      },
      "source": [
        "**Converting original genre to general genre** \n",
        "\n",
        "If a general genre was in the name of the original genre, it was counted to be a song of the first general genre it comes across. \n",
        "\n",
        "\n",
        "*For example,*    \n",
        "*album rock -> rock*     \n",
        "*british alternative rock -> alternative*"
      ]
    },
    {
      "cell_type": "code",
      "metadata": {
        "id": "hhveWt4pHZvI"
      },
      "source": [
        "def convert_to_generic_genre(genre):\n",
        "  for g in general_genres:\n",
        "    if g in genre:\n",
        "      return g\n",
        "  return 'other'\n",
        "\n",
        "df_top_two_thousand['Top Genre'] = df_top_two_thousand['Top Genre'].apply(lambda g: convert_to_generic_genre(g))\n",
        "df_top_two_thousand['Artist'] = df_top_two_thousand['Artist'].apply(lambda a: [a])"
      ],
      "execution_count": 13,
      "outputs": []
    },
    {
      "cell_type": "code",
      "metadata": {
        "colab": {
          "base_uri": "https://localhost:8080/",
          "height": 414
        },
        "id": "DIg14u_CtUHP",
        "outputId": "cb8112c2-d0e3-4ab1-9565-45ef6251b5cd"
      },
      "source": [
        "# Display dataframe with genres\n",
        "df_top_two_thousand"
      ],
      "execution_count": 14,
      "outputs": [
        {
          "output_type": "execute_result",
          "data": {
            "text/html": [
              "<div>\n",
              "<style scoped>\n",
              "    .dataframe tbody tr th:only-of-type {\n",
              "        vertical-align: middle;\n",
              "    }\n",
              "\n",
              "    .dataframe tbody tr th {\n",
              "        vertical-align: top;\n",
              "    }\n",
              "\n",
              "    .dataframe thead th {\n",
              "        text-align: right;\n",
              "    }\n",
              "</style>\n",
              "<table border=\"1\" class=\"dataframe\">\n",
              "  <thead>\n",
              "    <tr style=\"text-align: right;\">\n",
              "      <th></th>\n",
              "      <th>Title</th>\n",
              "      <th>Artist</th>\n",
              "      <th>Top Genre</th>\n",
              "    </tr>\n",
              "  </thead>\n",
              "  <tbody>\n",
              "    <tr>\n",
              "      <th>0</th>\n",
              "      <td>Sunrise</td>\n",
              "      <td>[Norah Jones]</td>\n",
              "      <td>adult standards</td>\n",
              "    </tr>\n",
              "    <tr>\n",
              "      <th>1</th>\n",
              "      <td>Black Night</td>\n",
              "      <td>[Deep Purple]</td>\n",
              "      <td>rock</td>\n",
              "    </tr>\n",
              "    <tr>\n",
              "      <th>2</th>\n",
              "      <td>Clint Eastwood</td>\n",
              "      <td>[Gorillaz]</td>\n",
              "      <td>hip hop</td>\n",
              "    </tr>\n",
              "    <tr>\n",
              "      <th>3</th>\n",
              "      <td>The Pretender</td>\n",
              "      <td>[Foo Fighters]</td>\n",
              "      <td>alternative</td>\n",
              "    </tr>\n",
              "    <tr>\n",
              "      <th>4</th>\n",
              "      <td>Waitin' On A Sunny Day</td>\n",
              "      <td>[Bruce Springsteen]</td>\n",
              "      <td>rock</td>\n",
              "    </tr>\n",
              "    <tr>\n",
              "      <th>...</th>\n",
              "      <td>...</td>\n",
              "      <td>...</td>\n",
              "      <td>...</td>\n",
              "    </tr>\n",
              "    <tr>\n",
              "      <th>1989</th>\n",
              "      <td>Heartbreak Hotel</td>\n",
              "      <td>[Elvis Presley]</td>\n",
              "      <td>adult standards</td>\n",
              "    </tr>\n",
              "    <tr>\n",
              "      <th>1990</th>\n",
              "      <td>Hound Dog</td>\n",
              "      <td>[Elvis Presley]</td>\n",
              "      <td>adult standards</td>\n",
              "    </tr>\n",
              "    <tr>\n",
              "      <th>1991</th>\n",
              "      <td>Johnny B. Goode</td>\n",
              "      <td>[Chuck Berry]</td>\n",
              "      <td>rock</td>\n",
              "    </tr>\n",
              "    <tr>\n",
              "      <th>1992</th>\n",
              "      <td>Take Five</td>\n",
              "      <td>[The Dave Brubeck Quartet]</td>\n",
              "      <td>other</td>\n",
              "    </tr>\n",
              "    <tr>\n",
              "      <th>1993</th>\n",
              "      <td>Blueberry Hill</td>\n",
              "      <td>[Fats Domino]</td>\n",
              "      <td>adult standards</td>\n",
              "    </tr>\n",
              "  </tbody>\n",
              "</table>\n",
              "<p>1994 rows × 3 columns</p>\n",
              "</div>"
            ],
            "text/plain": [
              "                       Title                      Artist        Top Genre\n",
              "0                    Sunrise               [Norah Jones]  adult standards\n",
              "1                Black Night               [Deep Purple]             rock\n",
              "2             Clint Eastwood                  [Gorillaz]          hip hop\n",
              "3              The Pretender              [Foo Fighters]      alternative\n",
              "4     Waitin' On A Sunny Day         [Bruce Springsteen]             rock\n",
              "...                      ...                         ...              ...\n",
              "1989        Heartbreak Hotel             [Elvis Presley]  adult standards\n",
              "1990               Hound Dog             [Elvis Presley]  adult standards\n",
              "1991         Johnny B. Goode               [Chuck Berry]             rock\n",
              "1992               Take Five  [The Dave Brubeck Quartet]            other\n",
              "1993          Blueberry Hill               [Fats Domino]  adult standards\n",
              "\n",
              "[1994 rows x 3 columns]"
            ]
          },
          "metadata": {
            "tags": []
          },
          "execution_count": 14
        }
      ]
    },
    {
      "cell_type": "code",
      "metadata": {
        "colab": {
          "base_uri": "https://localhost:8080/",
          "height": 354
        },
        "id": "V6JPxqRowygi",
        "outputId": "03c548eb-e56e-46e2-8d5b-4ac7afbaa832"
      },
      "source": [
        "# Distrubtion of general genres\n",
        "genre_barcounts = df_top_two_thousand.groupby('Top Genre').count().reset_index()\n",
        "genre_barcounts = genre_barcounts.rename(columns={\"Title\": \"Count\"}).drop(columns=['Artist'])\n",
        "genre_barcounts"
      ],
      "execution_count": 15,
      "outputs": [
        {
          "output_type": "execute_result",
          "data": {
            "text/html": [
              "<div>\n",
              "<style scoped>\n",
              "    .dataframe tbody tr th:only-of-type {\n",
              "        vertical-align: middle;\n",
              "    }\n",
              "\n",
              "    .dataframe tbody tr th {\n",
              "        vertical-align: top;\n",
              "    }\n",
              "\n",
              "    .dataframe thead th {\n",
              "        text-align: right;\n",
              "    }\n",
              "</style>\n",
              "<table border=\"1\" class=\"dataframe\">\n",
              "  <thead>\n",
              "    <tr style=\"text-align: right;\">\n",
              "      <th></th>\n",
              "      <th>Top Genre</th>\n",
              "      <th>Count</th>\n",
              "    </tr>\n",
              "  </thead>\n",
              "  <tbody>\n",
              "    <tr>\n",
              "      <th>0</th>\n",
              "      <td>adult standards</td>\n",
              "      <td>123</td>\n",
              "    </tr>\n",
              "    <tr>\n",
              "      <th>1</th>\n",
              "      <td>alternative</td>\n",
              "      <td>87</td>\n",
              "    </tr>\n",
              "    <tr>\n",
              "      <th>2</th>\n",
              "      <td>folk</td>\n",
              "      <td>21</td>\n",
              "    </tr>\n",
              "    <tr>\n",
              "      <th>3</th>\n",
              "      <td>hip hop</td>\n",
              "      <td>29</td>\n",
              "    </tr>\n",
              "    <tr>\n",
              "      <th>4</th>\n",
              "      <td>indie</td>\n",
              "      <td>77</td>\n",
              "    </tr>\n",
              "    <tr>\n",
              "      <th>5</th>\n",
              "      <td>jazz</td>\n",
              "      <td>3</td>\n",
              "    </tr>\n",
              "    <tr>\n",
              "      <th>6</th>\n",
              "      <td>metal</td>\n",
              "      <td>23</td>\n",
              "    </tr>\n",
              "    <tr>\n",
              "      <th>7</th>\n",
              "      <td>other</td>\n",
              "      <td>386</td>\n",
              "    </tr>\n",
              "    <tr>\n",
              "      <th>8</th>\n",
              "      <td>pop</td>\n",
              "      <td>388</td>\n",
              "    </tr>\n",
              "    <tr>\n",
              "      <th>9</th>\n",
              "      <td>rock</td>\n",
              "      <td>857</td>\n",
              "    </tr>\n",
              "  </tbody>\n",
              "</table>\n",
              "</div>"
            ],
            "text/plain": [
              "         Top Genre  Count\n",
              "0  adult standards    123\n",
              "1      alternative     87\n",
              "2             folk     21\n",
              "3          hip hop     29\n",
              "4            indie     77\n",
              "5             jazz      3\n",
              "6            metal     23\n",
              "7            other    386\n",
              "8              pop    388\n",
              "9             rock    857"
            ]
          },
          "metadata": {
            "tags": []
          },
          "execution_count": 15
        }
      ]
    },
    {
      "cell_type": "code",
      "metadata": {
        "colab": {
          "base_uri": "https://localhost:8080/",
          "height": 295
        },
        "id": "x8fcRa8VysgD",
        "outputId": "d303659e-d76e-420a-ffcb-02935403736a"
      },
      "source": [
        "sns.barplot(x=genre_barcounts['Top Genre'], y = genre_barcounts['Count'])"
      ],
      "execution_count": 16,
      "outputs": [
        {
          "output_type": "execute_result",
          "data": {
            "text/plain": [
              "<matplotlib.axes._subplots.AxesSubplot at 0x7fde1da949d0>"
            ]
          },
          "metadata": {
            "tags": []
          },
          "execution_count": 16
        },
        {
          "output_type": "display_data",
          "data": {
            "image/png": "[encoded data removed]",
            "text/plain": [
              "<Figure size 432x288 with 1 Axes>"
            ]
          },
          "metadata": {
            "tags": [],
            "needs_background": "light"
          }
        }
      ]
    },
    {
      "cell_type": "markdown",
      "metadata": {
        "id": "1nJ963fdzSHQ"
      },
      "source": [
        "## Part 2.3: Merge Genre with Spotify Songs"
      ]
    },
    {
      "cell_type": "code",
      "metadata": {
        "colab": {
          "base_uri": "https://localhost:8080/",
          "height": 653
        },
        "id": "TTIftORjJLAr",
        "outputId": "eddfbfee-f618-43a0-9d6b-bcf31951c151"
      },
      "source": [
        "merged_df = df_top_two_thousand.merge(spotify_df, left_on='Title', right_on='name').drop_duplicates(subset=['Title'])\n",
        "merged_df = merged_df.drop(['name'], axis=1)\n",
        "merged_df['genre encoding'] = merged_df['Top Genre'].apply(lambda g: encoding.get(g))\n",
        "merged_df"
      ],
      "execution_count": 22,
      "outputs": [
        {
          "output_type": "execute_result",
          "data": {
            "text/html": [
              "<div>\n",
              "<style scoped>\n",
              "    .dataframe tbody tr th:only-of-type {\n",
              "        vertical-align: middle;\n",
              "    }\n",
              "\n",
              "    .dataframe tbody tr th {\n",
              "        vertical-align: top;\n",
              "    }\n",
              "\n",
              "    .dataframe thead th {\n",
              "        text-align: right;\n",
              "    }\n",
              "</style>\n",
              "<table border=\"1\" class=\"dataframe\">\n",
              "  <thead>\n",
              "    <tr style=\"text-align: right;\">\n",
              "      <th></th>\n",
              "      <th>Title</th>\n",
              "      <th>Artist</th>\n",
              "      <th>Top Genre</th>\n",
              "      <th>acousticness</th>\n",
              "      <th>artists</th>\n",
              "      <th>danceability</th>\n",
              "      <th>duration_ms</th>\n",
              "      <th>energy</th>\n",
              "      <th>explicit</th>\n",
              "      <th>id</th>\n",
              "      <th>instrumentalness</th>\n",
              "      <th>key</th>\n",
              "      <th>liveness</th>\n",
              "      <th>loudness</th>\n",
              "      <th>mode</th>\n",
              "      <th>popularity</th>\n",
              "      <th>release_date</th>\n",
              "      <th>speechiness</th>\n",
              "      <th>tempo</th>\n",
              "      <th>valence</th>\n",
              "      <th>year</th>\n",
              "      <th>genre encoding</th>\n",
              "    </tr>\n",
              "  </thead>\n",
              "  <tbody>\n",
              "    <tr>\n",
              "      <th>0</th>\n",
              "      <td>Sunrise</td>\n",
              "      <td>[Norah Jones]</td>\n",
              "      <td>adult standards</td>\n",
              "      <td>0.2440</td>\n",
              "      <td>['Ryan Bingham']</td>\n",
              "      <td>0.391</td>\n",
              "      <td>285827</td>\n",
              "      <td>0.681</td>\n",
              "      <td>0</td>\n",
              "      <td>0KefTgKt7yjGkKPyO7yryV</td>\n",
              "      <td>0.000108</td>\n",
              "      <td>4</td>\n",
              "      <td>0.5860</td>\n",
              "      <td>-7.231</td>\n",
              "      <td>1</td>\n",
              "      <td>61</td>\n",
              "      <td>2007-01-01</td>\n",
              "      <td>0.0328</td>\n",
              "      <td>137.567</td>\n",
              "      <td>0.255</td>\n",
              "      <td>2007</td>\n",
              "      <td>5</td>\n",
              "    </tr>\n",
              "    <tr>\n",
              "      <th>14</th>\n",
              "      <td>Black Night</td>\n",
              "      <td>[Deep Purple]</td>\n",
              "      <td>rock</td>\n",
              "      <td>0.1430</td>\n",
              "      <td>['Bob Seger']</td>\n",
              "      <td>0.675</td>\n",
              "      <td>202227</td>\n",
              "      <td>0.886</td>\n",
              "      <td>0</td>\n",
              "      <td>0AgjxRK2lMzGnLJX9J5TBn</td>\n",
              "      <td>0.001300</td>\n",
              "      <td>9</td>\n",
              "      <td>0.2270</td>\n",
              "      <td>-4.312</td>\n",
              "      <td>1</td>\n",
              "      <td>23</td>\n",
              "      <td>1975-04-05</td>\n",
              "      <td>0.0295</td>\n",
              "      <td>118.747</td>\n",
              "      <td>0.954</td>\n",
              "      <td>1975</td>\n",
              "      <td>0</td>\n",
              "    </tr>\n",
              "    <tr>\n",
              "      <th>15</th>\n",
              "      <td>Clint Eastwood</td>\n",
              "      <td>[Gorillaz]</td>\n",
              "      <td>hip hop</td>\n",
              "      <td>0.0249</td>\n",
              "      <td>['Gorillaz']</td>\n",
              "      <td>0.663</td>\n",
              "      <td>340920</td>\n",
              "      <td>0.694</td>\n",
              "      <td>1</td>\n",
              "      <td>7yMiX7n9SBvadzox8T5jzT</td>\n",
              "      <td>0.000000</td>\n",
              "      <td>10</td>\n",
              "      <td>0.0698</td>\n",
              "      <td>-8.627</td>\n",
              "      <td>0</td>\n",
              "      <td>69</td>\n",
              "      <td>2001</td>\n",
              "      <td>0.1720</td>\n",
              "      <td>167.964</td>\n",
              "      <td>0.524</td>\n",
              "      <td>2001</td>\n",
              "      <td>2</td>\n",
              "    </tr>\n",
              "    <tr>\n",
              "      <th>16</th>\n",
              "      <td>The Pretender</td>\n",
              "      <td>[Foo Fighters]</td>\n",
              "      <td>alternative</td>\n",
              "      <td>0.1580</td>\n",
              "      <td>['Jackson Browne']</td>\n",
              "      <td>0.620</td>\n",
              "      <td>351000</td>\n",
              "      <td>0.529</td>\n",
              "      <td>0</td>\n",
              "      <td>7Gr61S9VTm8fcYfAo4Fd9g</td>\n",
              "      <td>0.000000</td>\n",
              "      <td>7</td>\n",
              "      <td>0.2280</td>\n",
              "      <td>-7.976</td>\n",
              "      <td>1</td>\n",
              "      <td>56</td>\n",
              "      <td>1977-08-30</td>\n",
              "      <td>0.0306</td>\n",
              "      <td>103.180</td>\n",
              "      <td>0.630</td>\n",
              "      <td>1977</td>\n",
              "      <td>4</td>\n",
              "    </tr>\n",
              "    <tr>\n",
              "      <th>18</th>\n",
              "      <td>Waitin' On A Sunny Day</td>\n",
              "      <td>[Bruce Springsteen]</td>\n",
              "      <td>rock</td>\n",
              "      <td>0.0116</td>\n",
              "      <td>['Bruce Springsteen']</td>\n",
              "      <td>0.584</td>\n",
              "      <td>256133</td>\n",
              "      <td>0.820</td>\n",
              "      <td>0</td>\n",
              "      <td>7vIyudiO2Tr9hZ2yzfwQmx</td>\n",
              "      <td>0.000040</td>\n",
              "      <td>0</td>\n",
              "      <td>0.0991</td>\n",
              "      <td>-5.228</td>\n",
              "      <td>1</td>\n",
              "      <td>58</td>\n",
              "      <td>2002-07-30</td>\n",
              "      <td>0.0271</td>\n",
              "      <td>106.055</td>\n",
              "      <td>0.869</td>\n",
              "      <td>2002</td>\n",
              "      <td>0</td>\n",
              "    </tr>\n",
              "    <tr>\n",
              "      <th>...</th>\n",
              "      <td>...</td>\n",
              "      <td>...</td>\n",
              "      <td>...</td>\n",
              "      <td>...</td>\n",
              "      <td>...</td>\n",
              "      <td>...</td>\n",
              "      <td>...</td>\n",
              "      <td>...</td>\n",
              "      <td>...</td>\n",
              "      <td>...</td>\n",
              "      <td>...</td>\n",
              "      <td>...</td>\n",
              "      <td>...</td>\n",
              "      <td>...</td>\n",
              "      <td>...</td>\n",
              "      <td>...</td>\n",
              "      <td>...</td>\n",
              "      <td>...</td>\n",
              "      <td>...</td>\n",
              "      <td>...</td>\n",
              "      <td>...</td>\n",
              "      <td>...</td>\n",
              "    </tr>\n",
              "    <tr>\n",
              "      <th>4494</th>\n",
              "      <td>Heartbreak Hotel</td>\n",
              "      <td>[Elvis Presley]</td>\n",
              "      <td>adult standards</td>\n",
              "      <td>0.8400</td>\n",
              "      <td>['Elvis Presley']</td>\n",
              "      <td>0.696</td>\n",
              "      <td>127560</td>\n",
              "      <td>0.210</td>\n",
              "      <td>0</td>\n",
              "      <td>6xNwKNYZcvgV3XTIwsgNio</td>\n",
              "      <td>0.000002</td>\n",
              "      <td>4</td>\n",
              "      <td>0.1070</td>\n",
              "      <td>-11.922</td>\n",
              "      <td>1</td>\n",
              "      <td>60</td>\n",
              "      <td>1958-03-21</td>\n",
              "      <td>0.0670</td>\n",
              "      <td>93.543</td>\n",
              "      <td>0.717</td>\n",
              "      <td>1958</td>\n",
              "      <td>5</td>\n",
              "    </tr>\n",
              "    <tr>\n",
              "      <th>4498</th>\n",
              "      <td>Hound Dog</td>\n",
              "      <td>[Elvis Presley]</td>\n",
              "      <td>adult standards</td>\n",
              "      <td>0.7330</td>\n",
              "      <td>['Elvis Presley']</td>\n",
              "      <td>0.357</td>\n",
              "      <td>136027</td>\n",
              "      <td>0.756</td>\n",
              "      <td>0</td>\n",
              "      <td>64Ny7djQ6rNJspquof2KoX</td>\n",
              "      <td>0.005050</td>\n",
              "      <td>0</td>\n",
              "      <td>0.7600</td>\n",
              "      <td>-8.492</td>\n",
              "      <td>1</td>\n",
              "      <td>67</td>\n",
              "      <td>1958-03-21</td>\n",
              "      <td>0.0621</td>\n",
              "      <td>174.797</td>\n",
              "      <td>0.950</td>\n",
              "      <td>1958</td>\n",
              "      <td>5</td>\n",
              "    </tr>\n",
              "    <tr>\n",
              "      <th>4502</th>\n",
              "      <td>Johnny B. Goode</td>\n",
              "      <td>[Chuck Berry]</td>\n",
              "      <td>rock</td>\n",
              "      <td>0.7410</td>\n",
              "      <td>['Chuck Berry']</td>\n",
              "      <td>0.534</td>\n",
              "      <td>161560</td>\n",
              "      <td>0.803</td>\n",
              "      <td>0</td>\n",
              "      <td>2QfiRTz5Yc8DdShCxG1tB2</td>\n",
              "      <td>0.000061</td>\n",
              "      <td>10</td>\n",
              "      <td>0.3070</td>\n",
              "      <td>-9.129</td>\n",
              "      <td>1</td>\n",
              "      <td>75</td>\n",
              "      <td>1959-07-01</td>\n",
              "      <td>0.0743</td>\n",
              "      <td>167.983</td>\n",
              "      <td>0.969</td>\n",
              "      <td>1959</td>\n",
              "      <td>0</td>\n",
              "    </tr>\n",
              "    <tr>\n",
              "      <th>4505</th>\n",
              "      <td>Take Five</td>\n",
              "      <td>[The Dave Brubeck Quartet]</td>\n",
              "      <td>other</td>\n",
              "      <td>0.5390</td>\n",
              "      <td>['The Dave Brubeck Quartet']</td>\n",
              "      <td>0.454</td>\n",
              "      <td>324133</td>\n",
              "      <td>0.260</td>\n",
              "      <td>0</td>\n",
              "      <td>1YQWosTIljIvxAgHWTp7KP</td>\n",
              "      <td>0.000780</td>\n",
              "      <td>8</td>\n",
              "      <td>0.0675</td>\n",
              "      <td>-13.193</td>\n",
              "      <td>0</td>\n",
              "      <td>67</td>\n",
              "      <td>1959-12-14</td>\n",
              "      <td>0.0401</td>\n",
              "      <td>174.322</td>\n",
              "      <td>0.598</td>\n",
              "      <td>1959</td>\n",
              "      <td>9</td>\n",
              "    </tr>\n",
              "    <tr>\n",
              "      <th>4514</th>\n",
              "      <td>Blueberry Hill</td>\n",
              "      <td>[Fats Domino]</td>\n",
              "      <td>adult standards</td>\n",
              "      <td>0.7400</td>\n",
              "      <td>['Fats Domino']</td>\n",
              "      <td>0.489</td>\n",
              "      <td>147880</td>\n",
              "      <td>0.499</td>\n",
              "      <td>0</td>\n",
              "      <td>06PdA0DLgF4BfAeUNZAbFG</td>\n",
              "      <td>0.000236</td>\n",
              "      <td>11</td>\n",
              "      <td>0.1560</td>\n",
              "      <td>-9.702</td>\n",
              "      <td>1</td>\n",
              "      <td>60</td>\n",
              "      <td>1959-01-01</td>\n",
              "      <td>0.0271</td>\n",
              "      <td>133.341</td>\n",
              "      <td>0.829</td>\n",
              "      <td>1959</td>\n",
              "      <td>5</td>\n",
              "    </tr>\n",
              "  </tbody>\n",
              "</table>\n",
              "<p>1495 rows × 22 columns</p>\n",
              "</div>"
            ],
            "text/plain": [
              "                       Title                      Artist  ...  year  genre encoding\n",
              "0                    Sunrise               [Norah Jones]  ...  2007               5\n",
              "14               Black Night               [Deep Purple]  ...  1975               0\n",
              "15            Clint Eastwood                  [Gorillaz]  ...  2001               2\n",
              "16             The Pretender              [Foo Fighters]  ...  1977               4\n",
              "18    Waitin' On A Sunny Day         [Bruce Springsteen]  ...  2002               0\n",
              "...                      ...                         ...  ...   ...             ...\n",
              "4494        Heartbreak Hotel             [Elvis Presley]  ...  1958               5\n",
              "4498               Hound Dog             [Elvis Presley]  ...  1958               5\n",
              "4502         Johnny B. Goode               [Chuck Berry]  ...  1959               0\n",
              "4505               Take Five  [The Dave Brubeck Quartet]  ...  1959               9\n",
              "4514          Blueberry Hill               [Fats Domino]  ...  1959               5\n",
              "\n",
              "[1495 rows x 22 columns]"
            ]
          },
          "metadata": {
            "tags": []
          },
          "execution_count": 22
        }
      ]
    },
    {
      "cell_type": "markdown",
      "metadata": {
        "id": "nAuAqJ1uvBS_"
      },
      "source": [
        "# Part 3: Exploring Correlations"
      ]
    },
    {
      "cell_type": "code",
      "metadata": {
        "id": "qIp_MfmczbjK"
      },
      "source": [
        "from sklearn.decomposition import PCA\n",
        "from sklearn.preprocessing import StandardScaler\n",
        "from sklearn.ensemble import RandomForestClassifier\n",
        "from sklearn.model_selection import train_test_split\n",
        "import numpy as np"
      ],
      "execution_count": 18,
      "outputs": []
    },
    {
      "cell_type": "code",
      "metadata": {
        "colab": {
          "base_uri": "https://localhost:8080/",
          "height": 315
        },
        "id": "wnhKDN37KWQ3",
        "outputId": "3141279c-e601-4d4e-a8b1-ff3493513025"
      },
      "source": [
        "X = []\n",
        "y = merged_df['genre encoding'].tolist()\n",
        "\n",
        "for i in range(len(merged_df)):\n",
        "  temp = []\n",
        "  for col in cols_to_numeric:\n",
        "    temp.append(merged_df.iloc[i][col])\n",
        "  X.append(temp)\n",
        "\n",
        "scaler = StandardScaler()\n",
        "X = scaler.fit_transform(X)\n",
        "\n",
        "pca = PCA(n_components=11)\n",
        "X2 = pca.fit_transform(X)\n",
        "\n",
        "print(pca.explained_variance_ratio_)\n",
        "\n",
        "pc_versus_variance = np.cumsum(pca.explained_variance_ratio_)\n",
        "plt.plot(pc_versus_variance)"
      ],
      "execution_count": 19,
      "outputs": [
        {
          "output_type": "stream",
          "text": [
            "[0.22251926 0.12659509 0.10016419 0.09456132 0.0886381  0.08021299\n",
            " 0.07313438 0.06674206 0.05908131 0.04028204 0.0358539 ]\n"
          ],
          "name": "stdout"
        },
        {
          "output_type": "execute_result",
          "data": {
            "text/plain": [
              "[<matplotlib.lines.Line2D at 0x7fde16dae9d0>]"
            ]
          },
          "metadata": {
            "tags": []
          },
          "execution_count": 19
        },
        {
          "output_type": "display_data",
          "data": {
            "image/png": "[encoded data removed]",
            "text/plain": [
              "<Figure size 432x288 with 1 Axes>"
            ]
          },
          "metadata": {
            "tags": [],
            "needs_background": "light"
          }
        }
      ]
    },
    {
      "cell_type": "code",
      "metadata": {
        "colab": {
          "base_uri": "https://localhost:8080/"
        },
        "id": "BMOFdjUto3O_",
        "outputId": "56e03e94-9c65-4c38-d5bb-ac520f4899b9"
      },
      "source": [
        "# determined by graph above -> these 8 components explain >= 95% of the variance\n",
        "principal_components = 8\n",
        "pca_model = PCA(n_components=principal_components)\n",
        "\n",
        "X3 = pca_model.fit_transform(X)\n",
        "\n",
        "features = [np.abs(pca_model.components_[i]).argmax() for i in range(principal_components)]\n",
        "\n",
        "significant_features = []\n",
        "for i in range(principal_components):\n",
        "  explained_variance = pca_model.explained_variance_ratio_[i]\n",
        "  significant_features.append((cols_to_numeric[features[i]], explained_variance))\n",
        "\n",
        "for feature in significant_features:\n",
        "  print(feature)"
      ],
      "execution_count": 20,
      "outputs": [
        {
          "output_type": "stream",
          "text": [
            "('energy', 0.22251925783884807)\n",
            "('duration_ms', 0.12659509424551862)\n",
            "('mode', 0.1001641943688178)\n",
            "('popularity', 0.09456132241875193)\n",
            "('key', 0.088638101176901)\n",
            "('explicit', 0.08021299196635275)\n",
            "('mode', 0.07313438052162453)\n",
            "('liveness', 0.06674205511285458)\n"
          ],
          "name": "stdout"
        }
      ]
    },
    {
      "cell_type": "markdown",
      "metadata": {
        "id": "7saNtm4xwF8a"
      },
      "source": [
        "## Random Forest to Analyze Feature Importance\n",
        "\n",
        "In this section, we determine which 8 features from the spotify dataset are most important in predicting a song's genre."
      ]
    },
    {
      "cell_type": "code",
      "metadata": {
        "colab": {
          "base_uri": "https://localhost:8080/",
          "height": 515
        },
        "id": "qrxGUSnGwY9-",
        "outputId": "d31e26a3-4a41-4847-a468-b38139a2bb69"
      },
      "source": [
        "# features most important to predict genre\n",
        "rf_df = merged_df[cols_to_numeric]\n",
        "rf_df['genre encoding'] = merged_df['genre encoding']\n",
        "rf_df"
      ],
      "execution_count": 23,
      "outputs": [
        {
          "output_type": "stream",
          "text": [
            "/usr/local/lib/python3.7/dist-packages/ipykernel_launcher.py:3: SettingWithCopyWarning: \n",
            "A value is trying to be set on a copy of a slice from a DataFrame.\n",
            "Try using .loc[row_indexer,col_indexer] = value instead\n",
            "\n",
            "See the caveats in the documentation: https://pandas.pydata.org/pandas-docs/stable/user_guide/indexing.html#returning-a-view-versus-a-copy\n",
            "  This is separate from the ipykernel package so we can avoid doing imports until\n"
          ],
          "name": "stderr"
        },
        {
          "output_type": "execute_result",
          "data": {
            "text/html": [
              "<div>\n",
              "<style scoped>\n",
              "    .dataframe tbody tr th:only-of-type {\n",
              "        vertical-align: middle;\n",
              "    }\n",
              "\n",
              "    .dataframe tbody tr th {\n",
              "        vertical-align: top;\n",
              "    }\n",
              "\n",
              "    .dataframe thead th {\n",
              "        text-align: right;\n",
              "    }\n",
              "</style>\n",
              "<table border=\"1\" class=\"dataframe\">\n",
              "  <thead>\n",
              "    <tr style=\"text-align: right;\">\n",
              "      <th></th>\n",
              "      <th>acousticness</th>\n",
              "      <th>danceability</th>\n",
              "      <th>duration_ms</th>\n",
              "      <th>energy</th>\n",
              "      <th>explicit</th>\n",
              "      <th>instrumentalness</th>\n",
              "      <th>key</th>\n",
              "      <th>liveness</th>\n",
              "      <th>loudness</th>\n",
              "      <th>mode</th>\n",
              "      <th>popularity</th>\n",
              "      <th>valence</th>\n",
              "      <th>genre encoding</th>\n",
              "    </tr>\n",
              "  </thead>\n",
              "  <tbody>\n",
              "    <tr>\n",
              "      <th>0</th>\n",
              "      <td>0.2440</td>\n",
              "      <td>0.391</td>\n",
              "      <td>285827</td>\n",
              "      <td>0.681</td>\n",
              "      <td>0</td>\n",
              "      <td>0.000108</td>\n",
              "      <td>4</td>\n",
              "      <td>0.5860</td>\n",
              "      <td>-7.231</td>\n",
              "      <td>1</td>\n",
              "      <td>61</td>\n",
              "      <td>0.255</td>\n",
              "      <td>5</td>\n",
              "    </tr>\n",
              "    <tr>\n",
              "      <th>14</th>\n",
              "      <td>0.1430</td>\n",
              "      <td>0.675</td>\n",
              "      <td>202227</td>\n",
              "      <td>0.886</td>\n",
              "      <td>0</td>\n",
              "      <td>0.001300</td>\n",
              "      <td>9</td>\n",
              "      <td>0.2270</td>\n",
              "      <td>-4.312</td>\n",
              "      <td>1</td>\n",
              "      <td>23</td>\n",
              "      <td>0.954</td>\n",
              "      <td>0</td>\n",
              "    </tr>\n",
              "    <tr>\n",
              "      <th>15</th>\n",
              "      <td>0.0249</td>\n",
              "      <td>0.663</td>\n",
              "      <td>340920</td>\n",
              "      <td>0.694</td>\n",
              "      <td>1</td>\n",
              "      <td>0.000000</td>\n",
              "      <td>10</td>\n",
              "      <td>0.0698</td>\n",
              "      <td>-8.627</td>\n",
              "      <td>0</td>\n",
              "      <td>69</td>\n",
              "      <td>0.524</td>\n",
              "      <td>2</td>\n",
              "    </tr>\n",
              "    <tr>\n",
              "      <th>16</th>\n",
              "      <td>0.1580</td>\n",
              "      <td>0.620</td>\n",
              "      <td>351000</td>\n",
              "      <td>0.529</td>\n",
              "      <td>0</td>\n",
              "      <td>0.000000</td>\n",
              "      <td>7</td>\n",
              "      <td>0.2280</td>\n",
              "      <td>-7.976</td>\n",
              "      <td>1</td>\n",
              "      <td>56</td>\n",
              "      <td>0.630</td>\n",
              "      <td>4</td>\n",
              "    </tr>\n",
              "    <tr>\n",
              "      <th>18</th>\n",
              "      <td>0.0116</td>\n",
              "      <td>0.584</td>\n",
              "      <td>256133</td>\n",
              "      <td>0.820</td>\n",
              "      <td>0</td>\n",
              "      <td>0.000040</td>\n",
              "      <td>0</td>\n",
              "      <td>0.0991</td>\n",
              "      <td>-5.228</td>\n",
              "      <td>1</td>\n",
              "      <td>58</td>\n",
              "      <td>0.869</td>\n",
              "      <td>0</td>\n",
              "    </tr>\n",
              "    <tr>\n",
              "      <th>...</th>\n",
              "      <td>...</td>\n",
              "      <td>...</td>\n",
              "      <td>...</td>\n",
              "      <td>...</td>\n",
              "      <td>...</td>\n",
              "      <td>...</td>\n",
              "      <td>...</td>\n",
              "      <td>...</td>\n",
              "      <td>...</td>\n",
              "      <td>...</td>\n",
              "      <td>...</td>\n",
              "      <td>...</td>\n",
              "      <td>...</td>\n",
              "    </tr>\n",
              "    <tr>\n",
              "      <th>4494</th>\n",
              "      <td>0.8400</td>\n",
              "      <td>0.696</td>\n",
              "      <td>127560</td>\n",
              "      <td>0.210</td>\n",
              "      <td>0</td>\n",
              "      <td>0.000002</td>\n",
              "      <td>4</td>\n",
              "      <td>0.1070</td>\n",
              "      <td>-11.922</td>\n",
              "      <td>1</td>\n",
              "      <td>60</td>\n",
              "      <td>0.717</td>\n",
              "      <td>5</td>\n",
              "    </tr>\n",
              "    <tr>\n",
              "      <th>4498</th>\n",
              "      <td>0.7330</td>\n",
              "      <td>0.357</td>\n",
              "      <td>136027</td>\n",
              "      <td>0.756</td>\n",
              "      <td>0</td>\n",
              "      <td>0.005050</td>\n",
              "      <td>0</td>\n",
              "      <td>0.7600</td>\n",
              "      <td>-8.492</td>\n",
              "      <td>1</td>\n",
              "      <td>67</td>\n",
              "      <td>0.950</td>\n",
              "      <td>5</td>\n",
              "    </tr>\n",
              "    <tr>\n",
              "      <th>4502</th>\n",
              "      <td>0.7410</td>\n",
              "      <td>0.534</td>\n",
              "      <td>161560</td>\n",
              "      <td>0.803</td>\n",
              "      <td>0</td>\n",
              "      <td>0.000061</td>\n",
              "      <td>10</td>\n",
              "      <td>0.3070</td>\n",
              "      <td>-9.129</td>\n",
              "      <td>1</td>\n",
              "      <td>75</td>\n",
              "      <td>0.969</td>\n",
              "      <td>0</td>\n",
              "    </tr>\n",
              "    <tr>\n",
              "      <th>4505</th>\n",
              "      <td>0.5390</td>\n",
              "      <td>0.454</td>\n",
              "      <td>324133</td>\n",
              "      <td>0.260</td>\n",
              "      <td>0</td>\n",
              "      <td>0.000780</td>\n",
              "      <td>8</td>\n",
              "      <td>0.0675</td>\n",
              "      <td>-13.193</td>\n",
              "      <td>0</td>\n",
              "      <td>67</td>\n",
              "      <td>0.598</td>\n",
              "      <td>9</td>\n",
              "    </tr>\n",
              "    <tr>\n",
              "      <th>4514</th>\n",
              "      <td>0.7400</td>\n",
              "      <td>0.489</td>\n",
              "      <td>147880</td>\n",
              "      <td>0.499</td>\n",
              "      <td>0</td>\n",
              "      <td>0.000236</td>\n",
              "      <td>11</td>\n",
              "      <td>0.1560</td>\n",
              "      <td>-9.702</td>\n",
              "      <td>1</td>\n",
              "      <td>60</td>\n",
              "      <td>0.829</td>\n",
              "      <td>5</td>\n",
              "    </tr>\n",
              "  </tbody>\n",
              "</table>\n",
              "<p>1495 rows × 13 columns</p>\n",
              "</div>"
            ],
            "text/plain": [
              "      acousticness  danceability  ...  valence  genre encoding\n",
              "0           0.2440         0.391  ...    0.255               5\n",
              "14          0.1430         0.675  ...    0.954               0\n",
              "15          0.0249         0.663  ...    0.524               2\n",
              "16          0.1580         0.620  ...    0.630               4\n",
              "18          0.0116         0.584  ...    0.869               0\n",
              "...            ...           ...  ...      ...             ...\n",
              "4494        0.8400         0.696  ...    0.717               5\n",
              "4498        0.7330         0.357  ...    0.950               5\n",
              "4502        0.7410         0.534  ...    0.969               0\n",
              "4505        0.5390         0.454  ...    0.598               9\n",
              "4514        0.7400         0.489  ...    0.829               5\n",
              "\n",
              "[1495 rows x 13 columns]"
            ]
          },
          "metadata": {
            "tags": []
          },
          "execution_count": 23
        }
      ]
    },
    {
      "cell_type": "code",
      "metadata": {
        "colab": {
          "base_uri": "https://localhost:8080/"
        },
        "id": "JnexcJkyut4i",
        "outputId": "6234eea0-e34e-42be-e5f2-3317b51c2aea"
      },
      "source": [
        "labels = rf_df['genre encoding']\n",
        "\n",
        "X_train, X_test, y_train, y_test = train_test_split(rf_df.drop(['genre encoding'], axis=1), labels, test_size=0.2)\n",
        "\n",
        "rf_model = RandomForestClassifier(n_estimators=200, max_depth=3)\n",
        "rf_model.fit(X_train, y_train)\n",
        "\n",
        "feature_importances = rf_model.feature_importances_\n",
        "labels_idx = np.argsort(feature_importances)\n",
        "\n",
        "features_and_importance = []\n",
        "\n",
        "for i in range(len(feature_importances)):\n",
        "  importance = feature_importances[i]\n",
        "  features_and_importance.append((cols_to_numeric[labels_idx[i]], importance))\n",
        "\n",
        "features_and_importance = sorted(features_and_importance, key=lambda x: x[1], reverse=True)\n",
        "\n",
        "for i in features_and_importance:\n",
        "  print(i)"
      ],
      "execution_count": 25,
      "outputs": [
        {
          "output_type": "stream",
          "text": [
            "('valence', 0.1937359438573571)\n",
            "('explicit', 0.1685231176539544)\n",
            "('mode', 0.13463335625309364)\n",
            "('key', 0.1215822932325177)\n",
            "('liveness', 0.10365005464253095)\n",
            "('duration_ms', 0.08762113186538059)\n",
            "('instrumentalness', 0.0511750871014362)\n",
            "('danceability', 0.04795589842650549)\n",
            "('energy', 0.034792603597793445)\n",
            "('loudness', 0.029997825002757852)\n",
            "('popularity', 0.02355438272167053)\n",
            "('acousticness', 0.0027783056450021476)\n"
          ],
          "name": "stdout"
        }
      ]
    }
  ]
}